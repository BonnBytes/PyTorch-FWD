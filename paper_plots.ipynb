{
 "cells": [
  {
   "cell_type": "code",
   "execution_count": 1,
   "metadata": {},
   "outputs": [],
   "source": [
    "from scripts.fid.inception import InceptionV3\n",
    "import glob\n",
    "import os\n",
    "from PIL import Image\n",
    "import tikzplotlib\n",
    "import numpy as np\n",
    "import torch\n",
    "from torchvision import transforms\n",
    "import matplotlib.pyplot as plt\n",
    "from scripts.fid.fid import calculate_frechet_distance\n",
    "from src.freq_math import fourier_power_divergence, wavelet_packet_power_divergence"
   ]
  },
  {
   "cell_type": "code",
   "execution_count": 2,
   "metadata": {},
   "outputs": [],
   "source": [
    "img_test1 = Image.open('/home/lveerama/HPCA/CelebA-HQ/data256x256/00001.jpg')\n",
    "img_test2 = Image.open('/home/lveerama/HPCA/CelebA-HQ/data256x256/00002.jpg')\n",
    "img_test3 = Image.open('/home/lveerama/HPCA/CelebA-HQ/data256x256/00003.jpg')\n",
    "img_test4 = Image.open('/home/lveerama/HPCA/CelebA-HQ/data256x256/00004.jpg')\n",
    "img_test5 = Image.open('/home/lveerama/HPCA/CelebA-HQ/data256x256/00005.jpg')"
   ]
  },
  {
   "cell_type": "code",
   "execution_count": 3,
   "metadata": {},
   "outputs": [],
   "source": [
    "def rotate_values(img_test, angle, n=10, crop=64):\n",
    "    imgr_test = transforms.functional.rotate(img_test, angle, expand=False)\n",
    "    img_test = transforms.functional.center_crop(img_test, output_size=crop)\n",
    "    imgr_test = transforms.functional.center_crop(imgr_test, output_size=crop)\n",
    "    # plt.figure()\n",
    "    # plt.subplot(1, 2, 1)\n",
    "    # plt.imshow(img_test)\n",
    "    # plt.axis('off')\n",
    "    # plt.subplot(1, 2, 2)\n",
    "    # plt.imshow(imgr_test)\n",
    "    # plt.axis('off')\n",
    "    # plt.show()\n",
    "    img_tensor = transforms.ToTensor()(img_test)\n",
    "    imgr_tensor = transforms.ToTensor()(imgr_test)\n",
    "    img_tensor = torch.stack([img_tensor]*n, dim=0)\n",
    "    imgr_tensor = torch.stack([imgr_tensor]*n, dim=0)\n",
    "    # print(img_tensor.shape, imgr_tensor.shape)\n",
    "    bidx = InceptionV3.BLOCK_INDEX_BY_DIM[2048]\n",
    "    model = InceptionV3([bidx])\n",
    "    op1 = model(img_tensor)[0]\n",
    "    op2 = model(imgr_tensor)[0]\n",
    "    onp1 = op1.squeeze(3).squeeze(2).cpu().numpy()\n",
    "    onp2 = op2.squeeze(3).squeeze(2).cpu().numpy()\n",
    "    m1, s1 = np.mean(onp1, axis=0), np.cov(onp1, rowvar=False)\n",
    "    m2, s2 = np.mean(onp2, axis=0), np.cov(onp2, rowvar=False)\n",
    "    fid = calculate_frechet_distance(m1, s1, m2, s2)\n",
    "    fa, fb = fourier_power_divergence(img_tensor, imgr_tensor)\n",
    "    pa, pb = wavelet_packet_power_divergence(img_tensor, imgr_tensor, level=2)\n",
    "    return fid, (fa.item(), fb.item()), (pa.item(), pb.item())\n",
    "\n",
    "\n",
    "def gaussian_values(img_test, factor, n=10):\n",
    "    img_tensor = transforms.ToTensor()(img_test)\n",
    "    imgr_tensor = (1 - factor) * img_tensor + (factor) * torch.rand_like(img_tensor)\n",
    "    # imgr_tensor = transforms.ToTensor()(imgr_test)\n",
    "    img_tensor = torch.stack([img_tensor]*n, dim=0)\n",
    "    imgr_tensor = torch.stack([imgr_tensor]*n, dim=0)\n",
    "    # print(img_tensor.shape, imgr_tensor.shape)\n",
    "    bidx = InceptionV3.BLOCK_INDEX_BY_DIM[2048]\n",
    "    model = InceptionV3([bidx])\n",
    "    op1 = model(img_tensor)[0]\n",
    "    op2 = model(imgr_tensor)[0]\n",
    "    onp1 = op1.squeeze(3).squeeze(2).cpu().numpy()\n",
    "    onp2 = op2.squeeze(3).squeeze(2).cpu().numpy()\n",
    "    m1, s1 = np.mean(onp1, axis=0), np.cov(onp1, rowvar=False)\n",
    "    m2, s2 = np.mean(onp2, axis=0), np.cov(onp2, rowvar=False)\n",
    "    fid = calculate_frechet_distance(m1, s1, m2, s2)\n",
    "    fa, fb = fourier_power_divergence(img_tensor, imgr_tensor)\n",
    "    pa, pb = wavelet_packet_power_divergence(img_tensor, imgr_tensor, level=2)\n",
    "    return fid, (fa.item(), fb.item()), (pa.item(), pb.item())\n",
    "\n",
    "def gaussianBlur_values(img_test, kernel, n=10):\n",
    "    imgr_test = transforms.functional.gaussian_blur(img_test, kernel)\n",
    "    img_tensor = transforms.ToTensor()(img_test)\n",
    "    imgr_tensor = transforms.ToTensor()(imgr_test)\n",
    "    img_tensor = torch.stack([img_tensor]*n, dim=0)\n",
    "    imgr_tensor = torch.stack([imgr_tensor]*n, dim=0)\n",
    "    # print(img_tensor.shape, imgr_tensor.shape)\n",
    "    bidx = InceptionV3.BLOCK_INDEX_BY_DIM[2048]\n",
    "    model = InceptionV3([bidx])\n",
    "    op1 = model(img_tensor)[0]\n",
    "    op2 = model(imgr_tensor)[0]\n",
    "    onp1 = op1.squeeze(3).squeeze(2).cpu().numpy()\n",
    "    onp2 = op2.squeeze(3).squeeze(2).cpu().numpy()\n",
    "    m1, s1 = np.mean(onp1, axis=0), np.cov(onp1, rowvar=False)\n",
    "    m2, s2 = np.mean(onp2, axis=0), np.cov(onp2, rowvar=False)\n",
    "    fid = calculate_frechet_distance(m1, s1, m2, s2)\n",
    "    fa, fb = fourier_power_divergence(img_tensor, imgr_tensor)\n",
    "    pa, pb = wavelet_packet_power_divergence(img_tensor, imgr_tensor, level=2)\n",
    "    return fid, (fa.item(), fb.item()), (pa.item(), pb.item())"
   ]
  },
  {
   "cell_type": "code",
   "execution_count": 4,
   "metadata": {},
   "outputs": [
    {
     "name": "stdout",
     "output_type": "stream",
     "text": [
      "Angle: 0, Angle: 45, Angle: 90, Angle: 135, Angle: 180, Angle: 225, Angle: 270, Angle: 315, Angle: 360, \n",
      "Angle: 0, Angle: 45, Angle: 90, Angle: 135, Angle: 180, Angle: 225, Angle: 270, Angle: 315, Angle: 360, \n"
     ]
    }
   ],
   "source": [
    "angles = [0, 45, 90, 135, 180, 225, 270, 315, 360]\n",
    "all_fids = []\n",
    "all_ffts = []\n",
    "all_packets = []\n",
    "for img_test in [img_test1, img_test2]:#, img_test3, img_test4, img_test5]:\n",
    "    fids = []\n",
    "    ffts = []\n",
    "    packets = []\n",
    "    for ang in angles:\n",
    "        fid, fft, packs = rotate_values(img_test, ang)#\n",
    "\n",
    "        print(f\"Angle: {ang}\", end=', ')\n",
    "        fids.append(fid)\n",
    "        ffts.append(sum(fft)/2.)\n",
    "        packets.append(sum(packs)/2.)\n",
    "    print()\n",
    "    all_fids.append(fids)\n",
    "    all_ffts.append(ffts)\n",
    "    all_packets.append(packets)"
   ]
  },
  {
   "cell_type": "code",
   "execution_count": 5,
   "metadata": {},
   "outputs": [],
   "source": [
    "def compute_mean_var(list_):\n",
    "    y = np.stack(list_, axis=0)\n",
    "    mean_y = np.mean(y, axis=0)\n",
    "    std_y = np.std(y, axis=0)\n",
    "    return mean_y, std_y\n",
    "\n",
    "def stand(list_):\n",
    "    return (list_ - np.min(list_))/(np.max(list_) - np.min(list_))"
   ]
  },
  {
   "cell_type": "code",
   "execution_count": 6,
   "metadata": {},
   "outputs": [],
   "source": [
    "muf, stdf = compute_mean_var(all_fids)\n",
    "mufft, stdfft = compute_mean_var(all_ffts)\n",
    "muw, stdw = compute_mean_var(all_packets)"
   ]
  },
  {
   "cell_type": "code",
   "execution_count": 7,
   "metadata": {},
   "outputs": [],
   "source": [
    "plt.figure(figsize=(10, 7))\n",
    "plt.plot(angles, muf, label='FID')\n",
    "plt.fill_between(angles, muf-stdf, muf+stdf, alpha=0.5)\n",
    "plt.plot(angles, mufft, label='PSKL_FFT')\n",
    "plt.fill_between(angles, mufft-stdfft, mufft+stdfft, alpha=0.7)\n",
    "plt.plot(angles, muw, label='PSKL_Packet')\n",
    "plt.fill_between(angles, muw-stdw, muw+stdw, alpha=0.3)\n",
    "plt.xticks(angles)\n",
    "plt.xlabel('Angles')\n",
    "plt.grid(True)\n",
    "plt.legend()\n",
    "# plt.savefig('metrics_v_angles.pdf', dpi=600, bbox_inches='tight')\n",
    "# plt.show()\n",
    "tikzplotlib.save(\"metrics_v_angles.tex\")\n",
    "plt.close()"
   ]
  },
  {
   "cell_type": "code",
   "execution_count": 8,
   "metadata": {},
   "outputs": [
    {
     "name": "stdout",
     "output_type": "stream",
     "text": [
      "Factor: 0, 0.25, 0.5, 0.75, 1, \n",
      "Factor: 0, 0.25, 0.5, 0.75, 1, \n",
      "Factor: 0, 0.25, 0.5, 0.75, 1, \n",
      "Factor: 0, 0.25, 0.5, 0.75, 1, \n",
      "Factor: 0, 0.25, 0.5, 0.75, 1, \n"
     ]
    }
   ],
   "source": [
    "gauss_factors = [0, 0.25, 0.5, 0.75, 1]\n",
    "all_fids = []\n",
    "all_ffts = []\n",
    "all_packets = []\n",
    "for img_test in [img_test1, img_test2, img_test3, img_test4, img_test5]:\n",
    "    fids = []\n",
    "    ffts = []\n",
    "    packets = []\n",
    "    print(\"Factor:\", end=' ')\n",
    "    for fac in gauss_factors:\n",
    "        fid, fft, packs = gaussian_values(img_test, fac)\n",
    "\n",
    "        print(f\"{fac}\", end=', ')\n",
    "        fids.append(fid)\n",
    "        ffts.append(sum(fft)/2.)\n",
    "        packets.append(sum(packs)/2.)\n",
    "    print()\n",
    "    all_fids.append(fids)\n",
    "    all_ffts.append(ffts)\n",
    "    all_packets.append(packets)\n",
    "muf, stdf = compute_mean_var(all_fids)\n",
    "mufft, stdfft = compute_mean_var(all_ffts)\n",
    "muw, stdw = compute_mean_var(all_packets)\n",
    "plt.figure(figsize=(10, 7))\n",
    "plt.plot(gauss_factors, muf, label='FID')\n",
    "plt.fill_between(gauss_factors, muf-stdf, muf+stdf, alpha=0.5)\n",
    "plt.plot(gauss_factors, mufft, label='PSKL_FFT')\n",
    "plt.fill_between(gauss_factors, mufft-stdfft, mufft+stdfft, alpha=0.7)\n",
    "plt.plot(gauss_factors, muw, label='PSKL_Packet')\n",
    "plt.fill_between(gauss_factors, muw-stdw, muw+stdw, alpha=0.3)\n",
    "plt.xticks(gauss_factors)\n",
    "plt.xlabel('Gaussian Factor')\n",
    "plt.grid()\n",
    "plt.legend()\n",
    "# plt.savefig('metrics_v_gaussian.pdf', dpi=600, bbox_inches='tight')\n",
    "# plt.show()\n",
    "tikzplotlib.save(\"metrics_v_gaussian.tex\")\n",
    "plt.close()"
   ]
  },
  {
   "cell_type": "code",
   "execution_count": 9,
   "metadata": {},
   "outputs": [
    {
     "name": "stdout",
     "output_type": "stream",
     "text": [
      "Kernel Size: 1, 3, 5, 7, 9, 11, \n",
      "Kernel Size: 1, 3, 5, 7, 9, 11, \n",
      "Kernel Size: 1, 3, 5, 7, 9, 11, \n",
      "Kernel Size: 1, 3, 5, 7, 9, 11, \n",
      "Kernel Size: 1, 3, 5, 7, 9, 11, \n"
     ]
    }
   ],
   "source": [
    "kernel_size = [1, 3, 5, 7, 9, 11]\n",
    "all_fids = []\n",
    "all_ffts = []\n",
    "all_packets = []\n",
    "for img_test in [img_test1, img_test2, img_test3, img_test4, img_test5]:\n",
    "    fids = []\n",
    "    ffts = []\n",
    "    packets = []\n",
    "    print(\"Kernel Size:\", end=' ')\n",
    "    for ker in kernel_size:\n",
    "        fid, fft, packs = gaussianBlur_values(img_test, ker)\n",
    "\n",
    "        print(f\"{ker}\", end=', ')\n",
    "        fids.append(fid)\n",
    "        ffts.append(sum(fft)/2.)\n",
    "        packets.append(sum(packs)/2.)\n",
    "    print()\n",
    "    all_fids.append(fids)\n",
    "    all_ffts.append(ffts)\n",
    "    all_packets.append(packets)\n",
    "muf, stdf = compute_mean_var(all_fids)\n",
    "mufft, stdfft = compute_mean_var(all_ffts)\n",
    "muw, stdw = compute_mean_var(all_packets)\n",
    "plt.figure(figsize=(10, 7))\n",
    "plt.plot(kernel_size, muf, label='FID')\n",
    "plt.fill_between(kernel_size, muf-stdf, muf+stdf, alpha=0.5)\n",
    "plt.plot(kernel_size, mufft, label='PSKL_FFT')\n",
    "plt.fill_between(kernel_size, mufft-stdfft, mufft+stdfft, alpha=0.7)\n",
    "plt.plot(kernel_size, muw, label='PSKL_Packet')\n",
    "plt.fill_between(kernel_size, muw-stdw, muw+stdw, alpha=0.3)\n",
    "plt.xticks(kernel_size)\n",
    "plt.xlabel('Gaussian Kernel size')\n",
    "plt.grid()\n",
    "plt.legend()\n",
    "# plt.savefig('metrics_v_gaussianBlur.pdf', dpi=600, bbox_inches='tight')\n",
    "# plt.show()\n",
    "tikzplotlib.save(\"metrics_v_gaussianBlur.tex\")\n",
    "plt.close()"
   ]
  },
  {
   "cell_type": "code",
   "execution_count": 10,
   "metadata": {},
   "outputs": [],
   "source": [
    "comp_path = './compression_samples/'\n",
    "os.makedirs(comp_path, exist_ok=True)"
   ]
  },
  {
   "cell_type": "code",
   "execution_count": 11,
   "metadata": {},
   "outputs": [],
   "source": [
    "png_path = os.path.join(comp_path, 'png/')\n",
    "os.makedirs(png_path, exist_ok=True)"
   ]
  },
  {
   "cell_type": "code",
   "execution_count": 12,
   "metadata": {},
   "outputs": [],
   "source": [
    "for idx, img in enumerate([img_test1, img_test2, img_test3, img_test4, img_test5]):\n",
    "    fn = os.path.join(png_path, f'{idx+1:05d}.png')\n",
    "    img.save(fn)\n"
   ]
  },
  {
   "cell_type": "code",
   "execution_count": 16,
   "metadata": {},
   "outputs": [],
   "source": [
    "comp_rate = [10, 25, 50, 75, 100]\n",
    "for rate in comp_rate:\n",
    "    compr_path =os.path.join(comp_path, f'{rate}/')\n",
    "    os.makedirs(compr_path, exist_ok=True)\n",
    "\n",
    "    for idx, img in enumerate([img_test1, img_test2, img_test3, img_test4, img_test5]):\n",
    "        fn = os.path.join(compr_path, f'{idx+1:05d}.jpg')\n",
    "        img.save(fn, quality=rate)\n"
   ]
  },
  {
   "cell_type": "code",
   "execution_count": 17,
   "metadata": {},
   "outputs": [],
   "source": [
    "def format_values(img_test, imgr_test, n=10):\n",
    "    img_tensor = transforms.ToTensor()(img_test)\n",
    "    imgr_tensor = transforms.ToTensor()(imgr_test)\n",
    "    img_tensor = torch.stack([img_tensor]*n, dim=0)\n",
    "    imgr_tensor = torch.stack([imgr_tensor]*n, dim=0)\n",
    "    # print(img_tensor.shape, imgr_tensor.shape)\n",
    "    bidx = InceptionV3.BLOCK_INDEX_BY_DIM[2048]\n",
    "    model = InceptionV3([bidx])\n",
    "    op1 = model(img_tensor)[0]\n",
    "    op2 = model(imgr_tensor)[0]\n",
    "    onp1 = op1.squeeze(3).squeeze(2).cpu().numpy()\n",
    "    onp2 = op2.squeeze(3).squeeze(2).cpu().numpy()\n",
    "    m1, s1 = np.mean(onp1, axis=0), np.cov(onp1, rowvar=False)\n",
    "    m2, s2 = np.mean(onp2, axis=0), np.cov(onp2, rowvar=False)\n",
    "    fid = calculate_frechet_distance(m1, s1, m2, s2)\n",
    "    fa, fb = fourier_power_divergence(img_tensor, imgr_tensor)\n",
    "    pa, pb = wavelet_packet_power_divergence(img_tensor, imgr_tensor, level=2)\n",
    "    return fid, (fa.item(), fb.item()), (pa.item(), pb.item())\n",
    "    "
   ]
  },
  {
   "cell_type": "code",
   "execution_count": 18,
   "metadata": {},
   "outputs": [],
   "source": [
    "def read_imgs(rate):\n",
    "    compr_path =os.path.join(comp_path, f'{rate}/')\n",
    "    img_nms = glob.glob(f'{compr_path}*.jpg') if isinstance(rate, int) else glob.glob(f'{compr_path}*.png')\n",
    "    assert len(img_nms) == 5\n",
    "    imgs = []\n",
    "    for nm in img_nms:\n",
    "        imgs.append(Image.open(nm))\n",
    "    return imgs\n",
    "comp_imgs = {\n",
    "    10: read_imgs(10),\n",
    "    25: read_imgs(25),\n",
    "    50: read_imgs(50),\n",
    "    75: read_imgs(75),\n",
    "    100: read_imgs(100)\n",
    "}"
   ]
  },
  {
   "cell_type": "code",
   "execution_count": 19,
   "metadata": {},
   "outputs": [
    {
     "name": "stdout",
     "output_type": "stream",
     "text": [
      "Rate: 10, 25, 50, 75, 100, \n",
      "Rate: 10, 25, 50, 75, 100, \n",
      "Rate: 10, 25, 50, 75, 100, \n",
      "Rate: 10, 25, 50, 75, 100, \n",
      "Rate: 10, 25, 50, 75, 100, \n"
     ]
    }
   ],
   "source": [
    "rates = [10, 25, 50, 75, 100]\n",
    "all_fids = []\n",
    "all_ffts = []\n",
    "all_packets = []\n",
    "for idx, img_test in enumerate([img_test1, img_test2, img_test3, img_test4, img_test5]):\n",
    "    fids = []\n",
    "    ffts = []\n",
    "    packets = []\n",
    "    print(\"Rate:\", end=' ')\n",
    "    for rate in rates:\n",
    "        fid, fft, packs = format_values(img_test, comp_imgs[rate][idx])\n",
    "\n",
    "        print(f\"{rate}\", end=', ')\n",
    "        fids.append(fid)\n",
    "        ffts.append(sum(fft)/2.)\n",
    "        packets.append(sum(packs)/2.)\n",
    "    print()\n",
    "    all_fids.append(fids)\n",
    "    all_ffts.append(ffts)\n",
    "    all_packets.append(packets)\n",
    "muf, stdf = compute_mean_var(all_fids)\n",
    "mufft, stdfft = compute_mean_var(all_ffts)\n",
    "muw, stdw = compute_mean_var(all_packets)\n",
    "plt.figure(figsize=(10, 7))\n",
    "plt.plot(rates, muf, label='FID')\n",
    "plt.fill_between(rates, muf-stdf, muf+stdf, alpha=0.5)\n",
    "plt.plot(rates, mufft, label='PSKL_FFT')\n",
    "plt.fill_between(rates, mufft-stdfft, mufft+stdfft, alpha=0.7)\n",
    "plt.plot(rates, muw, label='PSKL_Packet')\n",
    "plt.fill_between(rates, muw-stdw, muw+stdw, alpha=0.3)\n",
    "plt.xticks(rates)\n",
    "plt.xlabel('JPEG Compression rate')\n",
    "plt.grid()\n",
    "plt.gca().legend()\n",
    "# plt.savefig('metrics_v_comprate.pdf', dpi=600, bbox_inches='tight')\n",
    "# plt.show()\n",
    "tikzplotlib.save(\"metrics_v_comprate.tex\")\n",
    "plt.close()"
   ]
  },
  {
   "cell_type": "code",
   "execution_count": null,
   "metadata": {},
   "outputs": [],
   "source": []
  }
 ],
 "metadata": {
  "kernelspec": {
   "display_name": "mlpytorch2",
   "language": "python",
   "name": "python3"
  },
  "language_info": {
   "codemirror_mode": {
    "name": "ipython",
    "version": 3
   },
   "file_extension": ".py",
   "mimetype": "text/x-python",
   "name": "python",
   "nbconvert_exporter": "python",
   "pygments_lexer": "ipython3",
   "version": "3.10.13"
  },
  "orig_nbformat": 4
 },
 "nbformat": 4,
 "nbformat_minor": 2
}
